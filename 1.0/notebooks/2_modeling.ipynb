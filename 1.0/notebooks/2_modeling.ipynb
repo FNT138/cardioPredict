{
 "cells": [
  {
   "cell_type": "code",
   "execution_count": null,
   "id": "0fd72407",
   "metadata": {
    "vscode": {
     "languageId": "plaintext"
    }
   },
   "outputs": [],
   "source": [
    "# 2_modeling.ipynb\n",
    "import pandas as pd\n",
    "import numpy as np\n",
    "from sklearn.model_selection import train_test_split, StratifiedKFold, RandomizedSearchCV\n",
    "from sklearn.metrics import accuracy_score, precision_score, recall_score, f1_score, roc_auc_score, confusion_matrix, RocCurveDisplay\n",
    "from sklearn.linear_model import LogisticRegression\n",
    "from sklearn.ensemble import RandomForestClassifier\n",
    "import xgboost as xgb\n",
    "from sklearn.pipeline import Pipeline\n",
    "import joblib\n",
    "from src.preprocessing import build_preprocessing_pipeline"
   ]
  },
  {
   "cell_type": "code",
   "execution_count": null,
   "id": "ee61dbd2",
   "metadata": {
    "vscode": {
     "languageId": "plaintext"
    }
   },
   "outputs": [],
   "source": [
    "# Cargar datos procesados\n",
    "df = pd.read_csv('data/processed/heart_raw_processed.csv')"
   ]
  },
  {
   "cell_type": "code",
   "execution_count": null,
   "id": "38b48ce9",
   "metadata": {
    "vscode": {
     "languageId": "plaintext"
    }
   },
   "outputs": [],
   "source": [
    "\n",
    "# Features / target\n",
    "X = df.drop(columns=['target'])\n",
    "y = df['target']"
   ]
  },
  {
   "cell_type": "code",
   "execution_count": null,
   "id": "cfdb1335",
   "metadata": {
    "vscode": {
     "languageId": "plaintext"
    }
   },
   "outputs": [],
   "source": [
    "\n",
    "# Train-test split estratificado\n",
    "X_train, X_test, y_train, y_test = train_test_split(\n",
    "    X, y, test_size=0.3, random_state=42, stratify=y)"
   ]
  },
  {
   "cell_type": "code",
   "execution_count": null,
   "id": "1b2b5a55",
   "metadata": {
    "vscode": {
     "languageId": "plaintext"
    }
   },
   "outputs": [],
   "source": [
    "\n",
    "# Construir pipeline\n",
    "preprocessor, num_cols, cat_cols = build_preprocessing_pipeline(df)\n",
    "# Model candidates:\n",
    "models = {\n",
    "    'logreg': Pipeline([('pre', preprocessor), ('clf', LogisticRegression(max_iter=1000, class_weight='balanced'))]),\n",
    "    'rf': Pipeline([('pre', preprocessor), ('clf', RandomForestClassifier(n_estimators=200, random_state=42, class_weight='balanced'))]),\n",
    "    'xgb': Pipeline([('pre', preprocessor), ('clf', xgb.XGBClassifier(eval_metric='logloss', use_label_encoder=False, random_state=42))])\n",
    "}\n"
   ]
  },
  {
   "cell_type": "code",
   "execution_count": null,
   "id": "9f35afbe",
   "metadata": {
    "vscode": {
     "languageId": "plaintext"
    }
   },
   "outputs": [],
   "source": [
    "\n",
    "# Entrenamiento rápido baseline\n",
    "results = {}\n",
    "for name, pipe in models.items():\n",
    "    pipe.fit(X_train, y_train)\n",
    "    preds = pipe.predict(X_test)\n",
    "    probs = pipe.predict_proba(X_test)[:,1]\n",
    "    results[name] = {\n",
    "        'accuracy': accuracy_score(y_test, preds),\n",
    "        'precision': precision_score(y_test, preds),\n",
    "        'recall': recall_score(y_test, preds),\n",
    "        'f1': f1_score(y_test, preds),\n",
    "        'auc': roc_auc_score(y_test, probs),\n",
    "        'confusion': confusion_matrix(y_test, preds)\n",
    "    }\n",
    "    print(name, results[name])"
   ]
  },
  {
   "cell_type": "code",
   "execution_count": null,
   "id": "ee32a9c1",
   "metadata": {
    "vscode": {
     "languageId": "plaintext"
    }
   },
   "outputs": [],
   "source": [
    "# Seleccionar un modelo para optimizar (ej. xgb)\n",
    "param_dist = {\n",
    "    'clf__n_estimators': [50,100,200,400],\n",
    "    'clf__max_depth': [3,4,6,8],\n",
    "    'clf__learning_rate': [0.01,0.05,0.1,0.2],\n",
    "    'clf__subsample': [0.6,0.8,1.0],\n",
    "}\n",
    "xgb_pipe = models['xgb']\n",
    "cv = StratifiedKFold(n_splits=5, shuffle=True, random_state=42)\n",
    "rs = RandomizedSearchCV(xgb_pipe, param_distributions=param_dist, n_iter=30, scoring='roc_auc', n_jobs=-1, cv=cv, random_state=42, verbose=1)\n",
    "rs.fit(X_train, y_train)\n",
    "print(\"Best params:\", rs.best_params_)\n",
    "best_model = rs.best_estimator_"
   ]
  },
  {
   "cell_type": "code",
   "execution_count": null,
   "id": "3ffc64f3",
   "metadata": {
    "vscode": {
     "languageId": "plaintext"
    }
   },
   "outputs": [],
   "source": [
    "# Evaluacion final\n",
    "preds = best_model.predict(X_test)\n",
    "probs = best_model.predict_proba(X_test)[:,1]\n",
    "import sklearn.metrics as m\n",
    "print(\"Accuracy\", m.accuracy_score(y_test,preds))\n",
    "print(\"Precision\", m.precision_score(y_test,preds))\n",
    "print(\"Recall\", m.recall_score(y_test,preds))\n",
    "print(\"F1\", m.f1_score(y_test,preds))\n",
    "print(\"AUC\", m.roc_auc_score(y_test,probs))\n",
    "print(\"Confusion:\\n\", m.confusion_matrix(y_test,preds))"
   ]
  },
  {
   "cell_type": "code",
   "execution_count": null,
   "id": "b7ccbb02",
   "metadata": {
    "vscode": {
     "languageId": "plaintext"
    }
   },
   "outputs": [],
   "source": [
    "# Guardar modelo\n",
    "joblib.dump(best_model, 'models/best_model.joblib')\n",
    "print(\"Saved model to models/best_model.joblib\")\n",
    "# Guardar métricas\n",
    "import json\n",
    "with open('reports/metrics.json','w') as f:\n",
    "    json.dump(results, f, indent=2, default=str)"
   ]
  }
 ],
 "metadata": {
  "language_info": {
   "name": "python"
  }
 },
 "nbformat": 4,
 "nbformat_minor": 5
}
