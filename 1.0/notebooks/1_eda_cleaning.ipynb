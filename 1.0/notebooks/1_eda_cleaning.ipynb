{
 "cells": [
  {
   "cell_type": "code",
   "execution_count": null,
   "id": "0a266c5f",
   "metadata": {},
   "outputs": [
    {
     "ename": "ModuleNotFoundError",
     "evalue": "No module named 'src'",
     "output_type": "error",
     "traceback": [
      "\u001b[31m---------------------------------------------------------------------------\u001b[39m",
      "\u001b[31mModuleNotFoundError\u001b[39m                       Traceback (most recent call last)",
      "\u001b[36mCell\u001b[39m\u001b[36m \u001b[39m\u001b[32mIn[15]\u001b[39m\u001b[32m, line 7\u001b[39m\n\u001b[32m      5\u001b[39m \u001b[38;5;28;01mimport\u001b[39;00m\u001b[38;5;250m \u001b[39m\u001b[34;01mseaborn\u001b[39;00m\u001b[38;5;250m \u001b[39m\u001b[38;5;28;01mas\u001b[39;00m\u001b[38;5;250m \u001b[39m\u001b[34;01msns\u001b[39;00m\n\u001b[32m      6\u001b[39m \u001b[38;5;28;01mfrom\u001b[39;00m\u001b[38;5;250m \u001b[39m\u001b[34;01msklearn\u001b[39;00m\u001b[34;01m.\u001b[39;00m\u001b[34;01mmodel_selection\u001b[39;00m\u001b[38;5;250m \u001b[39m\u001b[38;5;28;01mimport\u001b[39;00m train_test_split\n\u001b[32m----> \u001b[39m\u001b[32m7\u001b[39m \u001b[38;5;28;01mfrom\u001b[39;00m\u001b[38;5;250m \u001b[39m\u001b[34;01msrc\u001b[39;00m\u001b[38;5;250m \u001b[39m\u001b[38;5;28;01mimport\u001b[39;00m data_utils\n",
      "\u001b[31mModuleNotFoundError\u001b[39m: No module named 'src'"
     ]
    }
   ],
   "source": [
    "# 1_eda_cleaning.ipynb - celdas en orden\n",
    "import pandas as pd\n",
    "import numpy as np\n",
    "import matplotlib.pyplot as plt\n",
    "import seaborn as sns\n",
    "from sklearn.model_selection import train_test_split\n",
    "from src.data_utils import unzip_all, load_csv_guess\n",
    "\n"
   ]
  },
  {
   "cell_type": "code",
   "execution_count": null,
   "id": "6f557c8c",
   "metadata": {},
   "outputs": [],
   "source": [
    "\n",
    "# 0) Descomprimir y cargar\n",
    "unzip_all(raw_dir='data/raw', out_dir='data/raw_unzipped')\n",
    "df = load_csv_guess(in_dir='data/raw_unzipped')\n",
    "df.head()"
   ]
  },
  {
   "cell_type": "code",
   "execution_count": null,
   "id": "7623f1ba",
   "metadata": {},
   "outputs": [],
   "source": [
    "# 1) Diagnóstico inicial\n",
    "print(df.shape)\n",
    "df.info()\n",
    "df.describe(include='all').T"
   ]
  },
  {
   "cell_type": "code",
   "execution_count": null,
   "id": "869e4a48",
   "metadata": {},
   "outputs": [],
   "source": [
    "\n",
    "# 2) Normalizar nombres de columnas (ejemplo estándar)\n",
    "cols_map = {c: c.strip().lower().replace(' ', '_') for c in df.columns}\n",
    "df.rename(columns=cols_map, inplace=True)"
   ]
  },
  {
   "cell_type": "code",
   "execution_count": null,
   "id": "0b190c2e",
   "metadata": {},
   "outputs": [],
   "source": [
    "\n",
    "# 3) Chequear columnas esperadas\n",
    "expected = ['age','sex','cp','trestbps','chol','fbs','thalach','target']\n",
    "for e in expected:\n",
    "    if e not in df.columns:\n",
    "        print(\"Advertencia: columna\", e, \"no encontrada\")"
   ]
  },
  {
   "cell_type": "code",
   "execution_count": null,
   "id": "d48a8595",
   "metadata": {},
   "outputs": [],
   "source": [
    "\n",
    "# 4) Reemplazar ceros que signifiquen missing en ciertas columnas\n",
    "# (en algunos datasets 0 indica missing para chol, trestbps)\n",
    "for col in ['trestbps','chol','thalach']:\n",
    "    if col in df.columns:\n",
    "        # detectamos ceros plausibles\n",
    "        nzeros = (df[col] == 0).sum()\n",
    "        print(col, \"zeros:\", nzeros)\n",
    "        df[col] = df[col].replace(0, np.nan)"
   ]
  },
  {
   "cell_type": "code",
   "execution_count": null,
   "id": "5b3dd577",
   "metadata": {},
   "outputs": [],
   "source": [
    "\n",
    "# 5) Imputación simple: imputamos más tarde en pipeline; aquí solo chequeo\n",
    "missing = df.isna().sum()\n",
    "print(\"Missing per column:\\n\", missing)"
   ]
  },
  {
   "cell_type": "code",
   "execution_count": null,
   "id": "41024efb",
   "metadata": {},
   "outputs": [],
   "source": [
    "\n",
    "# 6) Análisis univariado y bivariado\n",
    "sns.histplot(df['age'].dropna(), kde=True)\n",
    "plt.title('Distribución de edad')\n",
    "plt.show()\n",
    "\n",
    "# correlaciones\n",
    "num_cols = df.select_dtypes(include=np.number).columns.tolist()\n",
    "plt.figure(figsize=(10,8))\n",
    "sns.heatmap(df[num_cols].corr(), annot=True, fmt=\".2f\", cmap='coolwarm')\n",
    "plt.title('Matriz de correlación')\n",
    "plt.show()"
   ]
  },
  {
   "cell_type": "code",
   "execution_count": null,
   "id": "513b22b9",
   "metadata": {},
   "outputs": [],
   "source": [
    "\n",
    "# 7) Convertir target a binario si viene multiclase (ej. 0-4)\n",
    "if 'target' in df.columns:\n",
    "    unique = df['target'].unique()\n",
    "    print(\"target unique:\", unique)\n",
    "    # convertir >0 a 1\n",
    "    df['target'] = df['target'].apply(lambda x: 1 if x>0 else 0)"
   ]
  },
  {
   "cell_type": "code",
   "execution_count": null,
   "id": "86a1d8d9",
   "metadata": {},
   "outputs": [],
   "source": [
    "\n",
    "# 8) Guardar dataset procesable (raw processed)\n",
    "os.makedirs('data/processed', exist_ok=True)\n",
    "df.to_csv('data/processed/heart_raw_processed.csv', index=False)\n",
    "print(\"Saved processed CSV\")"
   ]
  }
 ],
 "metadata": {
  "kernelspec": {
   "display_name": "venv",
   "language": "python",
   "name": "python3"
  },
  "language_info": {
   "codemirror_mode": {
    "name": "ipython",
    "version": 3
   },
   "file_extension": ".py",
   "mimetype": "text/x-python",
   "name": "python",
   "nbconvert_exporter": "python",
   "pygments_lexer": "ipython3",
   "version": "3.13.7"
  }
 },
 "nbformat": 4,
 "nbformat_minor": 5
}
