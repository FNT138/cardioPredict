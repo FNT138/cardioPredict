{
 "cells": [
  {
   "cell_type": "code",
   "execution_count": null,
   "id": "0952fe6a",
   "metadata": {
    "vscode": {
     "languageId": "plaintext"
    }
   },
   "outputs": [],
   "source": [
    "# 3_interpretability.ipynb\n",
    "import joblib\n",
    "import pandas as pd\n",
    "import shap\n",
    "import matplotlib.pyplot as plt\n",
    "from src.preprocessing import build_preprocessing_pipeline"
   ]
  },
  {
   "cell_type": "code",
   "execution_count": null,
   "id": "22c7e4d9",
   "metadata": {
    "vscode": {
     "languageId": "plaintext"
    }
   },
   "outputs": [],
   "source": [
    "best = joblib.load('models/best_model.joblib')\n",
    "# best is a pipeline: pre + clf\n",
    "# obtener X_train sample para explicar\n",
    "df = pd.read_csv('data/processed/heart_raw_processed.csv')\n",
    "X = df.drop(columns=['target'])\n",
    "y = df['target']"
   ]
  },
  {
   "cell_type": "code",
   "execution_count": null,
   "id": "1a4f682e",
   "metadata": {
    "vscode": {
     "languageId": "plaintext"
    }
   },
   "outputs": [],
   "source": [
    "# Tomamos un subset para speed\n",
    "X_sample = X.sample(n=500, random_state=42)"
   ]
  },
  {
   "cell_type": "code",
   "execution_count": null,
   "id": "fa4cb3bb",
   "metadata": {
    "vscode": {
     "languageId": "plaintext"
    }
   },
   "outputs": [],
   "source": [
    "# Para calcular shap, necesitamos datos transformados y el modelo final (árboles)\n",
    "# Si la parte predictora es XGB, podemos crear explainer sobre el step final\n",
    "# extraer pipeline componentes\n",
    "pre = best.named_steps['pre']\n",
    "clf = best.named_steps['clf']\n",
    "\n",
    "X_trans = pre.transform(X_sample)"
   ]
  },
  {
   "cell_type": "code",
   "execution_count": null,
   "id": "ace5dc61",
   "metadata": {
    "vscode": {
     "languageId": "plaintext"
    }
   },
   "outputs": [],
   "source": [
    "# obtener feature names tras one-hot\n",
    "num_cols = pre.transformers_[0][2]"
   ]
  },
  {
   "cell_type": "code",
   "execution_count": null,
   "id": "d70a714f",
   "metadata": {
    "vscode": {
     "languageId": "plaintext"
    }
   },
   "outputs": [],
   "source": [
    "# obtener ohe cols\n",
    "ohe = pre.transformers_[1][1].named_steps['onehot']\n",
    "ohe_cols = ohe.get_feature_names_out(pre.transformers_[1][2])\n",
    "feature_names = list(num_cols) + list(ohe_cols)"
   ]
  },
  {
   "cell_type": "code",
   "execution_count": null,
   "id": "4427d8fc",
   "metadata": {
    "vscode": {
     "languageId": "plaintext"
    }
   },
   "outputs": [],
   "source": [
    "# SHAP\n",
    "explainer = shap.TreeExplainer(clf)\n",
    "shap_values = explainer.shap_values(X_trans)\n",
    "shap.summary_plot(shap_values, X_trans, feature_names=feature_names, show=True)\n",
    "plt.savefig('reports/shap_summary.png', dpi=150)"
   ]
  }
 ],
 "metadata": {
  "language_info": {
   "name": "python"
  }
 },
 "nbformat": 4,
 "nbformat_minor": 5
}
