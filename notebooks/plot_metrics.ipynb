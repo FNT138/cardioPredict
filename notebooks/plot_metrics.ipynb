{
 "cells": [
  {
   "cell_type": "code",
   "execution_count": null,
   "id": "77ebf0c4",
   "metadata": {},
   "outputs": [
    {
     "name": "stdout",
     "output_type": "stream",
     "text": [
      "Gráficos guardados en reports/figures/\n"
     ]
    }
   ],
   "source": [
    "import json\n",
    "import os\n",
    "import matplotlib.pyplot as plt\n",
    "import pandas as pd\n",
    "import seaborn as sns"
   ]
  },
  {
   "cell_type": "code",
   "execution_count": null,
   "id": "0aa9d8d0",
   "metadata": {},
   "outputs": [],
   "source": [
    "os.makedirs(\"../reports/figures\", exist_ok=True)"
   ]
  },
  {
   "cell_type": "code",
   "execution_count": null,
   "id": "bd4b56e7",
   "metadata": {},
   "outputs": [],
   "source": [
    "# cargar métricas\n",
    "with open(\"../reports/all_metrics.json\", \"r\") as f:\n",
    "    metrics = json.load(f)\n",
    "\n",
    "# convertir a DataFrame\n",
    "rows = []\n",
    "for dataset, models in metrics.items():\n",
    "    for model, vals in models.items():\n",
    "        rows.append(\n",
    "            {\n",
    "                \"Dataset\": dataset,\n",
    "                \"Modelo\": model,\n",
    "                \"Accuracy\": vals.get(\"accuracy\"),\n",
    "                \"Recall\": vals.get(\"recall\"),\n",
    "                \"F1\": vals.get(\"f1\"),\n",
    "                \"AUC\": vals.get(\"auc\"),\n",
    "            }\n",
    "        )\n",
    "df = pd.DataFrame(rows)"
   ]
  },
  {
   "cell_type": "code",
   "execution_count": null,
   "id": "19914397",
   "metadata": {},
   "outputs": [],
   "source": [
    "# graficar métricas comparativas\n",
    "for metric in [\"Accuracy\", \"Recall\", \"F1\", \"AUC\"]:\n",
    "    plt.figure(figsize=(8, 6))\n",
    "    sns.barplot(data=df, x=\"Dataset\", y=metric, hue=\"Modelo\")\n",
    "    plt.title(f\"Comparación de {metric} por dataset y modelo\")\n",
    "    plt.ylim(0, 1)\n",
    "    plt.legend(title=\"Modelo\")\n",
    "    plt.tight_layout()\n",
    "    plt.savefig(f\"reports/figures/{metric.lower()}_comparison.png\")\n",
    "    plt.close()"
   ]
  },
  {
   "cell_type": "code",
   "execution_count": null,
   "id": "ff43ef27",
   "metadata": {},
   "outputs": [],
   "source": [
    "print(\"Gráficos guardados en reports/figures/\")"
   ]
  }
 ],
 "metadata": {
  "kernelspec": {
   "display_name": "venv",
   "language": "python",
   "name": "python3"
  },
  "language_info": {
   "codemirror_mode": {
    "name": "ipython",
    "version": 3
   },
   "file_extension": ".py",
   "mimetype": "text/x-python",
   "name": "python",
   "nbconvert_exporter": "python",
   "pygments_lexer": "ipython3",
   "version": "3.13.7"
  }
 },
 "nbformat": 4,
 "nbformat_minor": 5
}
