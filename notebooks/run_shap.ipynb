{
 "cells": [
  {
   "cell_type": "code",
   "execution_count": 10,
   "id": "d6a18e07",
   "metadata": {},
   "outputs": [],
   "source": [
    "import os\n",
    "import joblib\n",
    "import matplotlib.pyplot as plt\n",
    "import pandas as pd\n",
    "import shap"
   ]
  },
  {
   "cell_type": "code",
   "execution_count": 11,
   "id": "c9291621",
   "metadata": {},
   "outputs": [],
   "source": [
    "os.makedirs(\"reports/figures\", exist_ok=True)"
   ]
  },
  {
   "cell_type": "code",
   "execution_count": 12,
   "id": "fb8136f3",
   "metadata": {},
   "outputs": [],
   "source": [
    "# cargar modelo y test set\n",
    "model = joblib.load(\"../models/heart_failure_xgb.joblib\")\n",
    "X_test = pd.read_csv(\"../data/processed/heart_failure_X_test.csv\")\n",
    "\n",
    "# preprocesador y clasificador dentro del pipeline\n",
    "pre = model.named_steps[\"pre\"]\n",
    "clf = model.named_steps[\"clf\"]\n",
    "\n",
    "# transformar X_test para SHAP\n",
    "X_trans = pre.transform(X_test)\n",
    "\n",
    "# intentar obtener nombres de columnas\n",
    "try:\n",
    "    feature_names = pre.get_feature_names_out()\n",
    "except:\n",
    "    feature_names = [f\"f{i}\" for i in range(X_trans.shape[1])]"
   ]
  },
  {
   "cell_type": "code",
   "execution_count": 13,
   "id": "7b6fa53d",
   "metadata": {},
   "outputs": [],
   "source": [
    "# calcular valores SHAP\n",
    "explainer = shap.TreeExplainer(clf)\n",
    "shap_values = explainer.shap_values(X_trans)"
   ]
  },
  {
   "cell_type": "code",
   "execution_count": 14,
   "id": "a354bc1a",
   "metadata": {},
   "outputs": [],
   "source": [
    "# summary plot\n",
    "shap.summary_plot(shap_values, X_trans, feature_names=feature_names, show=False)\n",
    "plt.tight_layout()\n",
    "plt.savefig(\"reports/figures/shap_summary.png\", dpi=150)\n",
    "plt.close()"
   ]
  },
  {
   "cell_type": "code",
   "execution_count": 15,
   "id": "50c1f702",
   "metadata": {},
   "outputs": [
    {
     "name": "stdout",
     "output_type": "stream",
     "text": [
      "Interpretabilidad guardada en reports/figures/shap_summary.png\n"
     ]
    }
   ],
   "source": [
    "print(\"Interpretabilidad guardada en reports/figures/shap_summary.png\")"
   ]
  }
 ],
 "metadata": {
  "kernelspec": {
   "display_name": "venv",
   "language": "python",
   "name": "python3"
  },
  "language_info": {
   "codemirror_mode": {
    "name": "ipython",
    "version": 3
   },
   "file_extension": ".py",
   "mimetype": "text/x-python",
   "name": "python",
   "nbconvert_exporter": "python",
   "pygments_lexer": "ipython3",
   "version": "3.13.9"
  }
 },
 "nbformat": 4,
 "nbformat_minor": 5
}
