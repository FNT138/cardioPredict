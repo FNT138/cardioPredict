{
 "cells": [
  {
   "cell_type": "code",
   "execution_count": 1,
   "id": "d6a18e07",
   "metadata": {},
   "outputs": [
    {
     "name": "stderr",
     "output_type": "stream",
     "text": [
      "c:\\Users\\fede4\\OneDrive\\Documents\\UNRN\\Inteligencia Artificial - 25.2\\cardioPredict\\venv\\Lib\\site-packages\\tqdm\\auto.py:21: TqdmWarning: IProgress not found. Please update jupyter and ipywidgets. See https://ipywidgets.readthedocs.io/en/stable/user_install.html\n",
      "  from .autonotebook import tqdm as notebook_tqdm\n"
     ]
    },
    {
     "name": "stdout",
     "output_type": "stream",
     "text": [
      "Interpretabilidad guardada en reports/figures/shap_summary.png\n"
     ]
    }
   ],
   "source": [
    "# src/run_shap.py\n",
    "import joblib\n",
    "import shap\n",
    "import pandas as pd\n",
    "import matplotlib.pyplot as plt\n",
    "import os\n",
    "\n",
    "os.makedirs(\"reports/figures\", exist_ok=True)\n",
    "\n",
    "# cargar modelo y test set\n",
    "model = joblib.load(\"../models/uci_xgb.joblib\")\n",
    "X_test = pd.read_csv(\"../data/processed/uci_X_test.csv\")\n",
    "\n",
    "# preprocesador y clasificador dentro del pipeline\n",
    "pre = model.named_steps['pre']\n",
    "clf = model.named_steps['clf']\n",
    "\n",
    "# transformar X_test para SHAP\n",
    "X_trans = pre.transform(X_test)\n",
    "\n",
    "# intentar obtener nombres de columnas\n",
    "try:\n",
    "    feature_names = pre.get_feature_names_out()\n",
    "except:\n",
    "    feature_names = [f\"f{i}\" for i in range(X_trans.shape[1])]\n",
    "\n",
    "# calcular valores SHAP\n",
    "explainer = shap.TreeExplainer(clf)\n",
    "shap_values = explainer.shap_values(X_trans)\n",
    "\n",
    "# summary plot\n",
    "shap.summary_plot(shap_values, X_trans, feature_names=feature_names, show=False)\n",
    "plt.tight_layout()\n",
    "plt.savefig(\"reports/figures/shap_summary.png\", dpi=150)\n",
    "plt.close()\n",
    "\n",
    "print(\"Interpretabilidad guardada en reports/figures/shap_summary.png\")\n"
   ]
  },
  {
   "cell_type": "code",
   "execution_count": null,
   "id": "c9291621",
   "metadata": {},
   "outputs": [],
   "source": []
  }
 ],
 "metadata": {
  "kernelspec": {
   "display_name": "venv",
   "language": "python",
   "name": "python3"
  },
  "language_info": {
   "codemirror_mode": {
    "name": "ipython",
    "version": 3
   },
   "file_extension": ".py",
   "mimetype": "text/x-python",
   "name": "python",
   "nbconvert_exporter": "python",
   "pygments_lexer": "ipython3",
   "version": "3.13.7"
  }
 },
 "nbformat": 4,
 "nbformat_minor": 5
}
