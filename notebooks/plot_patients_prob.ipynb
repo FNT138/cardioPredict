{
 "cells": [
  {
   "cell_type": "code",
   "execution_count": 1,
   "id": "07edd71a",
   "metadata": {},
   "outputs": [
    {
     "name": "stdout",
     "output_type": "stream",
     "text": [
      "Gráfico de pacientes guardado en reports/figures/patient_probs.png\n"
     ]
    }
   ],
   "source": [
    "# src/plot_patient_probs.py\n",
    "import json\n",
    "import pandas as pd\n",
    "import matplotlib.pyplot as plt\n",
    "import joblib\n",
    "import os\n",
    "\n",
    "os.makedirs(\"reports/figures\", exist_ok=True)\n",
    "\n",
    "# cargar pacientes\n",
    "with open(\"../sample.json\", \"r\") as f:\n",
    "    patients = json.load(f)\n",
    "\n",
    "# cargar modelo\n",
    "model = joblib.load(\"../models/uci_xgb.joblib\")\n",
    "\n",
    "X = pd.DataFrame(patients)\n",
    "probs = model.predict_proba(X)[:,1]\n",
    "\n",
    "df = pd.DataFrame({\n",
    "    \"Paciente\": [p.get(\"description\", f\"Paciente {i+1}\") for i,p in enumerate(patients)],\n",
    "    \"Probabilidad\": probs\n",
    "})\n",
    "\n",
    "plt.figure(figsize=(8,6))\n",
    "plt.bar(df[\"Paciente\"], df[\"Probabilidad\"])\n",
    "plt.xticks(rotation=30, ha=\"right\")\n",
    "plt.ylabel(\"Probabilidad de enfermedad\")\n",
    "plt.title(\"Probabilidad de enfermedad cardíaca - Pacientes de ejemplo\")\n",
    "plt.tight_layout()\n",
    "plt.savefig(\"reports/figures/patient_probs.png\", dpi=150)\n",
    "plt.close()\n",
    "\n",
    "print(\"Gráfico de pacientes guardado en reports/figures/patient_probs.png\")\n"
   ]
  }
 ],
 "metadata": {
  "kernelspec": {
   "display_name": "venv",
   "language": "python",
   "name": "python3"
  },
  "language_info": {
   "codemirror_mode": {
    "name": "ipython",
    "version": 3
   },
   "file_extension": ".py",
   "mimetype": "text/x-python",
   "name": "python",
   "nbconvert_exporter": "python",
   "pygments_lexer": "ipython3",
   "version": "3.13.7"
  }
 },
 "nbformat": 4,
 "nbformat_minor": 5
}
