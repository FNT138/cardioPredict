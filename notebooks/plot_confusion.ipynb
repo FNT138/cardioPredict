{
 "cells": [
  {
   "cell_type": "code",
   "execution_count": 3,
   "id": "033378ad",
   "metadata": {},
   "outputs": [
    {
     "name": "stdout",
     "output_type": "stream",
     "text": [
      "Matrices de confusión guardadas en reports/figures/\n"
     ]
    }
   ],
   "source": [
    "# src/plot_confusion.py\n",
    "import json\n",
    "import seaborn as sns\n",
    "import matplotlib.pyplot as plt\n",
    "import numpy as np\n",
    "import os\n",
    "\n",
    "os.makedirs(\"reports/figures\", exist_ok=True)\n",
    "\n",
    "datasets = [\"uci\", \"heart_failure\", \"framingham\"]\n",
    "\n",
    "for dataset in datasets:\n",
    "    metrics_path = f\"../reports/{dataset}_metrics.json\"\n",
    "    if not os.path.exists(metrics_path):\n",
    "        continue\n",
    "    with open(metrics_path, \"r\") as f:\n",
    "        data = json.load(f)\n",
    "\n",
    "    for model, vals in data.items():\n",
    "        cm = vals[\"confusion\"]\n",
    "        cm = np.array(cm)\n",
    "\n",
    "        plt.figure(figsize=(4,4))\n",
    "        sns.heatmap(cm, annot=True, fmt=\"d\", cmap=\"Blues\", cbar=False)\n",
    "        plt.title(f\"Matriz de confusión: {dataset} - {model}\")\n",
    "        plt.xlabel(\"Predicción\")\n",
    "        plt.ylabel(\"Real\")\n",
    "        plt.tight_layout()\n",
    "        plt.savefig(f\"reports/figures/confusion_{dataset}_{model}.png\")\n",
    "        plt.close()\n",
    "\n",
    "print(\"Matrices de confusión guardadas en reports/figures/\")\n"
   ]
  }
 ],
 "metadata": {
  "kernelspec": {
   "display_name": "venv",
   "language": "python",
   "name": "python3"
  },
  "language_info": {
   "codemirror_mode": {
    "name": "ipython",
    "version": 3
   },
   "file_extension": ".py",
   "mimetype": "text/x-python",
   "name": "python",
   "nbconvert_exporter": "python",
   "pygments_lexer": "ipython3",
   "version": "3.13.7"
  }
 },
 "nbformat": 4,
 "nbformat_minor": 5
}
