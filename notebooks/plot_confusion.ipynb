{
 "cells": [
  {
   "cell_type": "code",
   "execution_count": 5,
   "id": "033378ad",
   "metadata": {},
   "outputs": [],
   "source": [
    "import json\n",
    "import os\n",
    "import matplotlib.pyplot as plt\n",
    "import numpy as np\n",
    "import seaborn as sns"
   ]
  },
  {
   "cell_type": "code",
   "execution_count": 6,
   "id": "f37b19e7",
   "metadata": {},
   "outputs": [],
   "source": [
    "os.makedirs(\"reports/figures\", exist_ok=True)\n",
    "\n",
    "datasets = [\"uci\", \"heart_failure\", \"framingham\"]"
   ]
  },
  {
   "cell_type": "code",
   "execution_count": 7,
   "id": "72b52bee",
   "metadata": {},
   "outputs": [],
   "source": [
    "\n",
    "for dataset in datasets:\n",
    "    metrics_path = f\"../reports/{dataset}_metrics.json\"\n",
    "    if not os.path.exists(metrics_path):\n",
    "        continue\n",
    "    with open(metrics_path, \"r\") as f:\n",
    "        data = json.load(f)\n",
    "\n",
    "    for model, vals in data.items():\n",
    "        cm = vals[\"confusion\"]\n",
    "        cm = np.array(cm)\n",
    "\n",
    "        plt.figure(figsize=(4, 4))\n",
    "        sns.heatmap(cm, annot=True, fmt=\"d\", cmap=\"Blues\", cbar=False)\n",
    "        plt.title(f\"Matriz de confusión: {dataset} - {model}\")\n",
    "        plt.xlabel(\"Predicción\")\n",
    "        plt.ylabel(\"Real\")\n",
    "        plt.tight_layout()\n",
    "        plt.savefig(f\"reports/figures/confusion_{dataset}_{model}.png\")\n",
    "        plt.close()"
   ]
  },
  {
   "cell_type": "code",
   "execution_count": 8,
   "id": "5b9ce142",
   "metadata": {},
   "outputs": [
    {
     "name": "stdout",
     "output_type": "stream",
     "text": [
      "Matrices de confusión guardadas en reports/figures/\n"
     ]
    }
   ],
   "source": [
    "print(\"Matrices de confusión guardadas en reports/figures/\")"
   ]
  }
 ],
 "metadata": {
  "kernelspec": {
   "display_name": "venv",
   "language": "python",
   "name": "python3"
  },
  "language_info": {
   "codemirror_mode": {
    "name": "ipython",
    "version": 3
   },
   "file_extension": ".py",
   "mimetype": "text/x-python",
   "name": "python",
   "nbconvert_exporter": "python",
   "pygments_lexer": "ipython3",
   "version": "3.13.9"
  }
 },
 "nbformat": 4,
 "nbformat_minor": 5
}
